{
  "cells": [
    {
      "cell_type": "markdown",
      "metadata": {
        "id": "oE-Ub8L-JWyB"
      },
      "source": [
        "# Лабораторная работа №8\n",
        "\n",
        "**Студент: Гаптулхаков Р.Р.**\n",
        "\n",
        "**Группа: М8О-408Б-19**\n",
        "\n",
        "## Вариант: 1\n",
        "\n",
        "**Задание**\n",
        "Используя схемы переменных направлений и дробных шагов, решить двумерную начально-краевую задачу для дифференциального уравнения параболического типа. В различные моменты времени вычислить погрешность численного решения путем сравнения результатов с приведенным в задании аналитическим решением $U(x, y, t)$.\n",
        "\n",
        "***Уравнение:***\n",
        "\n",
        "$\\large\\frac{\\partial u}{\\partial t} = a\\frac{\\partial^2 u}{\\partial x^2} + a\\frac{\\partial^2 u}{\\partial y^2}, a > 0$\n",
        "\n",
        "***Граничные условия:***\n",
        "\n",
        "\\begin{equation*}\n",
        " \\begin{cases}\n",
        "   u(0, y, t) = cos(\\mu_2y) exp(-(\\mu_1^2 + \\mu_2^2)at)\n",
        "   \\\\\n",
        "   u(\\pi, y, t) = (-1)^{\\mu_1}cos(\\mu_2y)exp(-(\\mu_1^2 +\\mu_2^2)at)\n",
        "   \\\\\n",
        "   u(x, 0, t) = cos(\\mu_1x)exp(-(\\mu_1^2+\\mu_2^2)at\n",
        "   \\\\\n",
        "   u(x, \\pi, t) = (-1)^{\\mu_2}cos(\\mu_1x)exp(-(\\mu_1^2+\\mu_2^2)at)\n",
        "   \\\\\n",
        "   u(x, y, 0) = cos(\\mu_1x)cos(\\mu_2y)\n",
        " \\end{cases}\n",
        "\\end{equation*}\n",
        "\n",
        "***Аналитическое решение:***\n",
        "\n",
        "$U(x, y, t) = cos(\\mu_1x)cos(\\mu_2y)exp(-(\\mu_1^2+\\mu_2^2)at)$"
      ]
    },
    {
      "cell_type": "code",
      "execution_count": null,
      "metadata": {
        "id": "MHEarBbrPxoh"
      },
      "outputs": [],
      "source": [
        "import matplotlib.pyplot as plt\n",
        "import numpy as np\n",
        "import math"
      ]
    },
    {
      "cell_type": "code",
      "source": [
        "xs= (0, math.pi)\n",
        "ys= (0, math.pi)\n",
        "ts= (0, 1)\n",
        "\n",
        "a = 1\n",
        "mu1 = 1\n",
        "mu2 = 1\n",
        "\n",
        "h_x = 0.01\n",
        "h_y = 0.01\n",
        "tau = 0.01"
      ],
      "metadata": {
        "id": "Zn6w5UtNt6ol"
      },
      "execution_count": null,
      "outputs": []
    },
    {
      "cell_type": "code",
      "execution_count": null,
      "metadata": {
        "id": "otN2LcmTJJCu"
      },
      "outputs": [],
      "source": [
        "def phi_0(y, t, a=a, mu1=mu1, mu2=mu2):\n",
        "    return math.cos(mu2*y) * math.exp(-(mu1**2 + mu2**2) * a * t)\n",
        "\n",
        "\n",
        "def phi_1(y, t, a=a, mu1=mu1, mu2=mu2):\n",
        "    return (-1)**mu1 * math.cos(mu2*y) * math.exp(-(mu1**2 + mu2**2) * a * t)\n",
        "\n",
        "def phi_2(x, t, a=a, mu1=mu1, mu2=mu2):\n",
        "    return math.cos(mu1*x) * math.exp(-(mu1**2 + mu2**2) * a * t)\n",
        "\n",
        "def phi_3(x, t, a=a, mu1=mu1, mu2=mu2):\n",
        "    return (-1)**mu2 * math.cos(mu1*x) * math.exp(-(mu1**2 + mu2**2) * a * t)\n",
        "\n",
        "\n",
        "def psi(x, y, mu1=mu1, mu2=mu2):\n",
        "    return math.cos(mu1*x) * math.cos(mu2*y)\n",
        "\n",
        "def answer(x, y, t, a=a, mu1=mu1, mu2=mu2):\n",
        "    return math.cos(mu1*x) * math.cos(mu2*y) * math.exp(-(mu1**2 + mu2**2) * a * t)"
      ]
    },
    {
      "cell_type": "code",
      "execution_count": null,
      "metadata": {
        "id": "Wy6bOnodD3aJ"
      },
      "outputs": [],
      "source": [
        "def get_ans(hx, hy, tau,  xs, ys, ts):\n",
        "    x = np.arange(xs[0], xs[1] + hx, hx)\n",
        "    y = np.arange(ys[0], ys[1] + hy, hy)\n",
        "    t = np.arange(ts[0], ts[1] + tau, tau)\n",
        "    \n",
        "    ans = np.zeros((len(t), len(x), len(y)))\n",
        "\n",
        "    for idx in range(len(x)):\n",
        "        for idy in range(len(y)):\n",
        "            for idt in range(len(t)):\n",
        "                ans[idt][idx][idy] = answer(x[idx], y[idy], t[idt])\n",
        "    return ans"
      ]
    },
    {
      "cell_type": "code",
      "source": [
        "ans = get_ans(h_x, h_y, tau, xs, ys, ts)"
      ],
      "metadata": {
        "id": "CwRCbmj0s9hw"
      },
      "execution_count": null,
      "outputs": []
    },
    {
      "cell_type": "markdown",
      "source": [
        "### Метод переменных направлений\n",
        "\n",
        "Для момента времени $k+1/2$ производная по иксу будет аппроксимироваться неявно, а по игреку - явно. Для момента времени $k+1$ наоборот.\n",
        "\n",
        "#### Шаг 1.\n",
        "\n",
        "Решаем систему уравнений для всех $j$, чтобы получить значения в момент времени $k+1/2$:\n",
        "\n",
        "$\\large\\begin{equation*}\n",
        " \\begin{cases}\n",
        "   bu_{1j}^{k+1/2}+cu_{2j}^{k+1/2}=d_1, \n",
        "   \\\\\n",
        "   au_{i-1j}^{k+1/2}+bu_{ij}^{k+1/2}+cu_{i+1j}^{k+1/2}=d, ~~~i=2\\dots N-2,\n",
        "   \\\\\n",
        "   au_{N-2j}^{k+1/2}+bu_{N-1j}^{k+1/2}=d_{N-1},\n",
        " \\end{cases}\n",
        "\\end{equation*}$\n",
        "\n",
        "$a=c=-a\\tau h_y^2$\n",
        "\n",
        "$b_j=2h_x^2h_y^2 + 2a\\tau h_y^2$\n",
        "\n",
        "$d = a\\tau h_x^2 u_{ij-1}^k+(2h_x^2h_y^2 - 2a\\tau h_x^2)u_{ij}^k+a\\tau h_x^2u_{ij+1}^k$\n",
        "\n",
        "$d_1=d - au_{0j}^{k+1/2}$\n",
        "\n",
        "$d_{N-1}=d - cu_{Nj}^{k+1/2}$\n",
        "\n",
        "#### Шаг 2.\n",
        "\n",
        "Решаем систему уравнений для всех $i$, чтобы получить значения в момент времени $k+1$:\n",
        "\n",
        "$\\large\\begin{equation*}\n",
        " \\begin{cases}\n",
        "   bu_{1j}^{k+1}+cu_{2j}^{k+1}=d_1, \n",
        "   \\\\\n",
        "   au_{i-1j}^{k+1}+bu_{ij}^{k+1}+cu_{i+1j}^{k+1}=d, ~~~i=2\\dots N-2,\n",
        "   \\\\\n",
        "   au_{N-2j}^{k+1}+bu_{N-1j}^{k+1}=d_{N-1},\n",
        " \\end{cases}\n",
        "\\end{equation*}$\n",
        "\n",
        "$a=c=-a\\tau h_x^2$\n",
        "\n",
        "$b_j=2h_x^2h_y^2 + 2a\\tau h_x^2$\n",
        "\n",
        "$d = a\\tau h_y^2 u_{i-1j}^{k+1/2}+(2h_x^2h_y^2 - 2a\\tau h_y^2)u_{ij}^{k+1/2}+a\\tau h_y^2u_{i+1j}^{k+1/2}$\n",
        "\n",
        "$d_1=d - au_{i0}^{k+1}$\n",
        "\n",
        "$d_{N-1}=d - cu_{iN}^{k+1}$"
      ],
      "metadata": {
        "id": "Y2fbCyYpeH5Z"
      }
    },
    {
      "cell_type": "code",
      "source": [
        "def error(A, B):\n",
        "    \"\"\"\n",
        "    Calculate max absolute error of elements of matrices A and B\n",
        "    \"\"\"\n",
        "    assert A.shape == B.shape\n",
        "    return abs(A - B).max()"
      ],
      "metadata": {
        "id": "akILu2mGtWty"
      },
      "execution_count": null,
      "outputs": []
    },
    {
      "cell_type": "code",
      "source": [
        "def tridiagonal_solve(A, b):\n",
        "    \"\"\"\n",
        "    Solves Ax=b\n",
        "    \"\"\"\n",
        "    n = len(A)\n",
        "    # Step 1. Forward\n",
        "    v = [0 for _ in range(n)]\n",
        "    u = [0 for _ in range(n)]\n",
        "    v[0] = A[0][1] / -A[0][0]\n",
        "    u[0] = b[0] / A[0][0]\n",
        "    for i in range(1, n-1):\n",
        "        v[i] = A[i][i+1] / (-A[i][i] - A[i][i-1] * v[i-1])\n",
        "        u[i] = (A[i][i-1] * u[i-1] - b[i]) / (-A[i][i] - A[i][i-1] * v[i-1])\n",
        "    v[n-1] = 0\n",
        "    u[n-1] = (A[n-1][n-2] * u[n-2] - b[n-1]) / (-A[n-1][n-1] - A[n-1][n-2] * v[n-2])\n",
        "\n",
        "    # Step 2. Backward\n",
        "    x = [0 for _ in range(n)]\n",
        "    x[n-1] = u[n-1]\n",
        "    for i in range(n-1, 0, -1):\n",
        "        x[i-1] = v[i-1] * x[i] + u[i-1]\n",
        "    return np.array(x)"
      ],
      "metadata": {
        "id": "KQcrT9t_lYjP"
      },
      "execution_count": null,
      "outputs": []
    },
    {
      "cell_type": "code",
      "source": [
        "def variable_directions_method(\n",
        "    xs,\n",
        "    ys, \n",
        "    ts,\n",
        "    h_x,\n",
        "    h_y, \n",
        "    tau,\n",
        "    a=a,\n",
        "    mu1=mu1,\n",
        "    mu2=mu2,\n",
        "    phi_0=phi_0,\n",
        "    phi_1=phi_1,\n",
        "    phi_2=phi_2,\n",
        "    phi_3=phi_3,\n",
        "    psi=psi,\n",
        "):\n",
        "    \"\"\"\n",
        "    Метод переменных направлений для ДУ параболического типа\n",
        "    \"\"\"\n",
        "    x = np.arange(xs[0], xs[1] + h_x, h_x)\n",
        "    y = np.arange(ys[0], ys[1] + h_y, h_y)\n",
        "    t = np.arange(ts[0], ts[1] + tau, tau)\n",
        "    result = np.zeros((len(t), len(x), len(y)))\n",
        "\n",
        "    \n",
        "    for x_id in range(len(x)):\n",
        "        for y_id in range(len(y)):\n",
        "            result[0][x_id][y_id] = psi(x[x_id], y[y_id], mu1, mu2)\n",
        "    \n",
        "    for t_id in range(1, len(t)):\n",
        "        \n",
        "        U_halftime = np.zeros((len(x), len(y)))\n",
        "        \n",
        "        # граничные условия\n",
        "        for x_id in range(len(x)):\n",
        "            result[t_id][x_id][0] = phi_2(x[x_id], t[t_id], a, mu1, mu2)\n",
        "            result[t_id][x_id][-1] = phi_3(x[x_id], t[t_id], a, mu1, mu2)\n",
        "            U_halftime[x_id][0] = phi_2(x[x_id], t[t_id] - tau / 2, a, mu1, mu2)\n",
        "            U_halftime[x_id][-1] = phi_3(x[x_id], t[t_id] - tau / 2, a, mu1, mu2)\n",
        "        # граничные условия\n",
        "        for y_id in range(len(y)):\n",
        "            result[t_id][0][y_id] = phi_0(y[y_id], t[t_id], a, mu1, mu2)\n",
        "            result[t_id][-1][y_id] = phi_1(y[y_id], t[t_id], a, mu1, mu2)\n",
        "            U_halftime[0][y_id] = phi_0(y[y_id], t[t_id] - tau / 2, a, mu1, mu2)\n",
        "            U_halftime[-1][y_id] = phi_1(y[y_id], t[t_id] - tau / 2, a, mu1, mu2)\n",
        "        \n",
        "        # решение системы\n",
        "        for y_id in range(1, len(y) - 1):\n",
        "            A = np.zeros((len(x) - 2, len(x) - 2))\n",
        "            b = np.zeros((len(x) - 2))\n",
        "\n",
        "            A[0][0] = 2 * h_x**2 * h_y**2 + 2 * a * tau * h_y**2\n",
        "            A[0][1] = -a * tau * h_y**2\n",
        "            for i in range(1, len(A) - 1):\n",
        "                A[i][i-1] = -a * tau * h_y**2\n",
        "                A[i][i] = 2 * h_x**2 * h_y**2 + 2 * a * tau * h_y**2\n",
        "                A[i][i+1] = -a * tau * h_y**2\n",
        "            A[-1][-2] = -a * tau * h_y**2\n",
        "            A[-1][-1] = 2 * h_x**2 * h_y**2 + 2 * a * tau * h_y**2\n",
        "\n",
        "            for x_id in range(1, len(x) - 1):\n",
        "                b[x_id-1] = (\n",
        "                    result[t_id-1][x_id][y_id-1] * a * tau * h_x**2\n",
        "                    + result[t_id-1][x_id][y_id] * (2 * h_x**2 * h_y**2 - 2 * a * tau * h_x**2)\n",
        "                    + result[t_id-1][x_id][y_id+1] * a * tau * h_x**2\n",
        "                )\n",
        "            b[0] -= (-a * tau * h_y**2) * phi_0(y[y_id], t[t_id] - tau / 2, a, mu1, mu2)\n",
        "            b[-1] -= (-a * tau * h_y**2) * phi_1(y[y_id], t[t_id] - tau / 2, a, mu1, mu2)\n",
        "            U_halftime[1:-1, y_id] = np.array(tridiagonal_solve(A, b))\n",
        "        \n",
        "        # решение системы\n",
        "        for x_id in range(1, len(x)-1):\n",
        "            A = np.zeros((len(y)-2, len(y)-2))\n",
        "            b = np.zeros((len(y)-2))\n",
        "\n",
        "            A[0][0] = 2 * h_x**2 * h_y**2 + 2 * a * tau * h_x**2\n",
        "            A[0][1] = -a * tau * h_x**2\n",
        "            for i in range(1, len(A) - 1):\n",
        "                A[i][i-1] = -a * tau * h_x**2\n",
        "                A[i][i] = 2 * h_x**2 * h_y**2 + 2 * a * tau * h_x**2\n",
        "                A[i][i+1] = -a * tau * h_x**2\n",
        "            A[-1][-2] = -a * tau * h_x**2\n",
        "            A[-1][-1] = 2 * h_x**2 * h_y**2 + 2 * a * tau * h_x**2\n",
        "\n",
        "            for y_id in range(1, len(y)-1):\n",
        "                b[y_id-1] = (\n",
        "                    U_halftime[x_id-1][y_id] * a * tau * h_y**2\n",
        "                    + U_halftime[x_id][y_id] * (2 * h_x**2 * h_y**2 - 2 * a * tau * h_y**2)\n",
        "                    + U_halftime[x_id+1][y_id] * a * tau * h_y**2\n",
        "                )\n",
        "            b[0] -= (-a * tau * h_x**2) * phi_2(x[x_id], t[t_id], a, mu1, mu2)\n",
        "            b[-1] -= (-a * tau * h_x**2) * phi_3(x[x_id], t[t_id], a, mu1, mu2)\n",
        "            result[t_id][x_id][1:-1] = tridiagonal_solve(A, b)\n",
        "    return result"
      ],
      "metadata": {
        "id": "jgLtoWYJlOpx"
      },
      "execution_count": null,
      "outputs": []
    },
    {
      "cell_type": "code",
      "source": [
        "variable_directions_solution = variable_directions_method(\n",
        "    xs,\n",
        "    ys,\n",
        "    ts,\n",
        "    h_x=h_x,\n",
        "    h_y=h_y,\n",
        "    tau=tau,\n",
        ")"
      ],
      "metadata": {
        "id": "I_2wRd0WsbzW"
      },
      "execution_count": null,
      "outputs": []
    },
    {
      "cell_type": "code",
      "source": [
        "print(\"Error: \", error(variable_directions_solution, ans))"
      ],
      "metadata": {
        "colab": {
          "base_uri": "https://localhost:8080/"
        },
        "id": "yRCFXLCFslJW",
        "outputId": "42099804-b73b-4e01-ac90-409d787fd9a1"
      },
      "execution_count": null,
      "outputs": [
        {
          "output_type": "stream",
          "name": "stdout",
          "text": [
            "Error:  5.797684103603373e-05\n"
          ]
        }
      ]
    },
    {
      "cell_type": "markdown",
      "source": [
        "### Метод дробных шагов\n",
        "\n",
        "Метод дробных шагов использует неявные схемы.\n",
        "\n",
        "#### Шаг 1.\n",
        "\n",
        "Решаем систему уравнений для всех $j$, чтобы получить значения в момент времени $k+1/2$:\n",
        "\n",
        "$\\large\\begin{equation*}\n",
        " \\begin{cases}\n",
        "   bu_{1j}^{k+1/2}+cu_{2j}^{k+1/2}=d_1, \n",
        "   \\\\\n",
        "   au_{i-1j}^{k+1/2}+bu_{ij}^{k+1/2}+cu_{i+1j}^{k+1/2}=d, ~~~i=2\\dots N-2,\n",
        "   \\\\\n",
        "   au_{N-2j}^{k+1/2}+bu_{N-1j}^{k+1/2}=d_{N-1},\n",
        " \\end{cases}\n",
        "\\end{equation*}$\n",
        "\n",
        "$a=c=-a\\tau$\n",
        "\n",
        "$b_j=h_x^2 + 2a\\tau$\n",
        "\n",
        "$d = h_x^2u_{ij}^k$\n",
        "\n",
        "$d_1=d - au_{0j}^{k+1/2}$\n",
        "\n",
        "$d_{N-1}=d - cu_{Nj}^{k+1/2}$\n",
        "\n",
        "#### Шаг 2.\n",
        "\n",
        "Решаем систему уравнений для всех $i$, чтобы получить значения в момент времени $k+1$:\n",
        "\n",
        "$\\large\\begin{equation*}\n",
        " \\begin{cases}\n",
        "   bu_{1j}^{k+1}+cu_{2j}^{k+1}=d_1, \n",
        "   \\\\\n",
        "   au_{i-1j}^{k+1}+bu_{ij}^{k+1}+cu_{i+1j}^{k+1}=d, ~~~i=2\\dots N-2,\n",
        "   \\\\\n",
        "   au_{N-2j}^{k+1}+bu_{N-1j}^{k+1}=d_{N-1},\n",
        " \\end{cases}\n",
        "\\end{equation*}$\n",
        "\n",
        "$a=c=-a\\tau h_x^2$\n",
        "\n",
        "$b_j=2h_x^2h_y^2 + 2a\\tau h_x^2$\n",
        "\n",
        "$d = a\\tau h_y^2 u_{i-1j}^{k+1/2}+(2h_x^2h_y^2 - 2a\\tau h_y^2)u_{ij}^{k+1/2}+a\\tau h_y^2u_{i+1j}^{k+1/2}$\n",
        "\n",
        "$d_1=d - au_{i0}^{k+1}$\n",
        "\n",
        "$d_{N-1}=d - cu_{iN}^{k+1}$\n"
      ],
      "metadata": {
        "id": "pYLnhBcttfI7"
      }
    },
    {
      "cell_type": "code",
      "source": [
        "def fractional_steps_method(\n",
        "    xs,\n",
        "    ys,\n",
        "    ts, \n",
        "    h_x,\n",
        "    h_y,\n",
        "    tau,\n",
        "    a=a,\n",
        "    mu1=mu1,\n",
        "    mu2=mu2,\n",
        "    phi_0=phi_0,\n",
        "    phi_1=phi_1,\n",
        "    phi_2=phi_2,\n",
        "    phi_3=phi_3,\n",
        "    psi=psi\n",
        "):\n",
        "    \"\"\"\n",
        "    Метод дробных шагов для ДУ задачи параболического типа\n",
        "    \"\"\"\n",
        "    x = np.arange(xs[0], xs[1] + h_x, h_x)\n",
        "    y = np.arange(ys[0], ys[1] + h_y, h_y)\n",
        "    t = np.arange(ts[0], ts[1] + tau, tau)\n",
        "    result = np.zeros((len(t), len(x), len(y)))\n",
        "\n",
        "    for x_id in range(len(x)):\n",
        "        for y_id in range(len(y)):\n",
        "            result[0][x_id][y_id] = psi(x[x_id], y[y_id], mu1, mu2)\n",
        "    \n",
        "    for t_id in range(1, len(t)):\n",
        "        U_halftime = np.zeros((len(x), len(y)))\n",
        "        \n",
        "        # граничные условия\n",
        "        for x_id in range(len(x)):\n",
        "            result[t_id][x_id][0] = phi_2(x[x_id], t[t_id], a, mu1, mu2)\n",
        "            result[t_id][x_id][-1] = phi_3(x[x_id], t[t_id], a, mu1, mu2)\n",
        "            U_halftime[x_id][0] = phi_2(x[x_id], t[t_id] - tau/2, a, mu1, mu2)\n",
        "            U_halftime[x_id][-1] = phi_3(x[x_id], t[t_id] - tau/2, a, mu1, mu2)\n",
        "        \n",
        "        for y_id in range(len(y)):\n",
        "            result[t_id][0][y_id] = phi_0(y[y_id], t[t_id], a, mu1, mu2)\n",
        "            result[t_id][-1][y_id] = phi_1(y[y_id], t[t_id], a, mu1, mu2)\n",
        "            U_halftime[0][y_id] = phi_0(y[y_id], t[t_id] - tau/2, a, mu1, mu2)\n",
        "            U_halftime[-1][y_id] = phi_1(y[y_id], t[t_id] - tau/2, a, mu1, mu2)\n",
        "        \n",
        "        #  система 1\n",
        "        for y_id in range(1, len(y)-1):\n",
        "            A = np.zeros((len(x)-2, len(x)-2))\n",
        "            b = np.zeros((len(x)-2))\n",
        "\n",
        "            A[0][0] = h_x**2 + 2 * a * tau\n",
        "            A[0][1] = -a * tau\n",
        "            for i in range(1, len(A) - 1):\n",
        "                A[i][i-1] = -a * tau\n",
        "                A[i][i] = h_x**2 + 2 * a * tau\n",
        "                A[i][i+1] = -a * tau\n",
        "            A[-1][-2] = -a * tau\n",
        "            A[-1][-1] = h_x**2 + 2 * a * tau\n",
        "\n",
        "            for x_id in range(1, len(x)-1):\n",
        "                b[x_id-1] = result[t_id-1][x_id][y_id] * h_x**2\n",
        "            b[0] -= (-a * tau) * phi_0(y[y_id], t[t_id] - tau/2, a, mu1, mu2)\n",
        "            b[-1] -= (-a * tau) * phi_1(y[y_id], t[t_id] - tau/2, a, mu1, mu2)\n",
        "            U_halftime[1:-1, y_id] = np.array(tridiagonal_solve(A, b))\n",
        "        \n",
        "        # система 2\n",
        "        for x_id in range(1, len(x)-1):\n",
        "            A = np.zeros((len(y)-2, len(y)-2))\n",
        "            b = np.zeros((len(y)-2))\n",
        "\n",
        "            A[0][0] = h_y**2 + 2 * a * tau\n",
        "            A[0][1] = -a * tau\n",
        "            for i in range(1, len(A) - 1):\n",
        "                A[i][i-1] = -a * tau\n",
        "                A[i][i] = h_y**2 + 2 * a * tau\n",
        "                A[i][i+1] = -a * tau\n",
        "            A[-1][-2] = -a * tau\n",
        "            A[-1][-1] = h_y**2 + 2 * a * tau\n",
        "\n",
        "            for y_id in range(1, len(y)-1):\n",
        "                b[y_id-1] = U_halftime[x_id][y_id] * h_y**2\n",
        "            b[0] -= (-a * tau) * phi_2(x[x_id], t[t_id], a, mu1, mu2)\n",
        "            b[-1] -= (-a * tau) * phi_3(x[x_id], t[t_id], a, mu1, mu2)\n",
        "            result[t_id][x_id][1:-1] = tridiagonal_solve(A, b)\n",
        "    return result"
      ],
      "metadata": {
        "id": "FKqDTuQqumTR"
      },
      "execution_count": null,
      "outputs": []
    },
    {
      "cell_type": "code",
      "source": [
        "fractional_steps_solution = fractional_steps_method(\n",
        "    xs,\n",
        "    ys,\n",
        "    ts,\n",
        "    h_x,\n",
        "    h_y,\n",
        "    tau\n",
        ")"
      ],
      "metadata": {
        "id": "BgxbUXMmvChJ"
      },
      "execution_count": null,
      "outputs": []
    },
    {
      "cell_type": "code",
      "source": [
        "print(\"Error: \", error(fractional_steps_solution, ans))"
      ],
      "metadata": {
        "colab": {
          "base_uri": "https://localhost:8080/"
        },
        "id": "Y2rhksZUvNg7",
        "outputId": "b031c971-fef6-45f1-d08c-568f2a50f76a"
      },
      "execution_count": null,
      "outputs": [
        {
          "output_type": "stream",
          "name": "stdout",
          "text": [
            "Error:  0.0005918981178177352\n"
          ]
        }
      ]
    },
    {
      "cell_type": "markdown",
      "source": [
        "## Визуализация"
      ],
      "metadata": {
        "id": "gCc1y0i7vTXu"
      }
    },
    {
      "cell_type": "code",
      "source": [
        "def plot_results(solutions, cur_time, cur_y, xs, ys, h_x,  h_y, tau):\n",
        "    \n",
        "    x = np.arange(xs[0], xs[1] + h_x, h_x)\n",
        "    y = np.arange(ys[0], ys[1] + h_y, h_y)\n",
        "    t = np.arange(ts[0], ts[1] + tau, tau)\n",
        "    \n",
        "    cur_y_id = abs(y - cur_y).argmin()\n",
        "    cur_t_id = abs(t - cur_time).argmin()\n",
        "\n",
        "    plt.figure(figsize=(15, 9))\n",
        "    \n",
        "    for method_name, solution in solutions.items():\n",
        "        plt.plot(x, solution[cur_t_id][:, cur_y_id], label=method_name)\n",
        "\n",
        "    plt.legend()\n",
        "    plt.grid()\n",
        "    plt.show()"
      ],
      "metadata": {
        "id": "7FgZ4joevUzh"
      },
      "execution_count": null,
      "outputs": []
    },
    {
      "cell_type": "code",
      "source": [
        "def plot_errors_from_time(solutions, ans, ts, tau):\n",
        "\n",
        "    t = np.arange(ts[0], ts[1] + tau,  tau)\n",
        "\n",
        "    plt.figure(figsize=(15, 9))\n",
        "    \n",
        "    for method_name, solution in solutions.items():\n",
        "        errors = np.array([\n",
        "            error(solution[:, i], ans[:, i])\n",
        "            for i in range(len(t))\n",
        "        ])\n",
        "        plt.plot(t, errors, label=method_name)\n",
        "\n",
        "    plt.xlabel('t')\n",
        "    plt.ylabel('Error')\n",
        "\n",
        "    plt.legend()\n",
        "    plt.grid()\n",
        "    plt.show()"
      ],
      "metadata": {
        "id": "bXx4W4R7vXq2"
      },
      "execution_count": null,
      "outputs": []
    },
    {
      "cell_type": "code",
      "source": [
        "solutions = {\n",
        "    \"fractional_steps_solution\"   : fractional_steps_solution, \n",
        "    \"variable_directions_solution\": variable_directions_solution,\n",
        "    \"analytical\"                  : ans\n",
        "}"
      ],
      "metadata": {
        "id": "FK3ywVsOvbGE"
      },
      "execution_count": null,
      "outputs": []
    },
    {
      "cell_type": "code",
      "source": [
        "plot_results(solutions, 0.5, 0.5, xs, ys, h_x, h_y, tau)"
      ],
      "metadata": {
        "colab": {
          "base_uri": "https://localhost:8080/",
          "height": 537
        },
        "id": "t3BQzCIxvmMH",
        "outputId": "503c416d-0786-487d-f871-b18581cf28ce"
      },
      "execution_count": null,
      "outputs": [
        {
          "output_type": "display_data",
          "data": {
            "text/plain": [
              "<Figure size 1080x648 with 1 Axes>"
            ],
            "image/png": "[encoded data removed]"
          },
          "metadata": {
            "needs_background": "light"
          }
        }
      ]
    },
    {
      "cell_type": "code",
      "source": [
        "solutions = {\n",
        "    \"fractional_steps_solution\"   : fractional_steps_solution, \n",
        "    \"variable_directions_solution\": variable_directions_solution,\n",
        "}"
      ],
      "metadata": {
        "id": "sq5tACGxwJqb"
      },
      "execution_count": null,
      "outputs": []
    },
    {
      "cell_type": "code",
      "source": [
        "plot_errors_from_time(\n",
        "    solutions,\n",
        "    ans,\n",
        "    ts,\n",
        "    tau=tau\n",
        ")"
      ],
      "metadata": {
        "colab": {
          "base_uri": "https://localhost:8080/",
          "height": 548
        },
        "id": "_nBRkqkIwIZM",
        "outputId": "1fc56992-8a4c-41dc-ebcd-fa51cf3ab129"
      },
      "execution_count": null,
      "outputs": [
        {
          "output_type": "display_data",
          "data": {
            "text/plain": [
              "<Figure size 1080x648 with 1 Axes>"
            ],
            "image/png": "[encoded data removed]"
          },
          "metadata": {
            "needs_background": "light"
          }
        }
      ]
    }
  ],
  "metadata": {
    "colab": {
      "provenance": [],
      "collapsed_sections": [
        "WY_7SBvNNTlM"
      ]
    },
    "kernelspec": {
      "display_name": "Python 3",
      "name": "python3"
    },
    "language_info": {
      "name": "python"
    },
    "gpuClass": "standard",
    "accelerator": "GPU"
  },
  "nbformat": 4,
  "nbformat_minor": 0
}