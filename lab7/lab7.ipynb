{
  "cells": [
    {
      "cell_type": "markdown",
      "metadata": {
        "id": "oE-Ub8L-JWyB"
      },
      "source": [
        "# Лабораторная работа №7\n",
        "\n",
        "**Студент: Гаптулхаков Р.Р.**\n",
        "\n",
        "**Группа: М8О-408Б-19**\n",
        "\n",
        "## Вариант: 1"
      ]
    },
    {
      "cell_type": "markdown",
      "source": [
        "***Задание:*** Решить краевую задачу для дифференциального уравнения эллиптического типа. Аппроксимацию уравнения произвести с использованием центрально-разностной схемы. Для решения дискретного аналога применить следующие методы: метод простых итераций (метод Либмана), метод Зейделя, метод простых итераций с верхней релаксацией. Вычислить погрешность численного решения путем сравнения результатов с приведенным в задании аналитическим решением $U(x, y)$.\n"
      ],
      "metadata": {
        "id": "OXzcNqTWAv4k"
      }
    },
    {
      "cell_type": "code",
      "execution_count": null,
      "metadata": {
        "id": "MHEarBbrPxoh"
      },
      "outputs": [],
      "source": [
        "import numpy as np\n",
        "import math\n",
        "import random\n",
        "import matplotlib.pyplot as plt"
      ]
    },
    {
      "cell_type": "markdown",
      "source": [
        "***Уравнение:***\n",
        "\n",
        "$$\\displaystyle\\frac{\\partial^2 u}{\\partial^2 x} + \\displaystyle\\frac{\\partial^2 u}{\\partial y^2} = 0$$\n",
        "\n",
        "***Граничные условия:***\n",
        "\n",
        "\\begin{equation*}\n",
        " \\begin{cases}\n",
        "   u(0, y) = y\n",
        "   \\\\\n",
        "   u(1, y) = 1 + y\n",
        "   \\\\\n",
        "   u(x, 0) = x\n",
        "   \\\\\n",
        "   u(x, 1) = 1 + x\n",
        " \\end{cases}\n",
        "\\end{equation*}\n",
        "\n",
        "***Аналитическое решение:***\n",
        "$$U(x, y) = x + y$$"
      ],
      "metadata": {
        "id": "rNSFWMlwCYCI"
      }
    },
    {
      "cell_type": "code",
      "source": [
        "def phi_0(y):\n",
        "    return y\n",
        "\n",
        "def phi_l(y):\n",
        "    return 1 + y\n",
        "\n",
        "def psi_0(x):\n",
        "    return x\n",
        "\n",
        "def psi_l(x):\n",
        "    return 1 + x\n",
        "\n",
        "def u(x, y):\n",
        "    return x + y"
      ],
      "metadata": {
        "id": "YH95Q9ug0M-7"
      },
      "execution_count": null,
      "outputs": []
    },
    {
      "cell_type": "code",
      "source": [
        "xs = (0, 1)\n",
        "ys = (0, 1)"
      ],
      "metadata": {
        "id": "Z_QcigS00w7W"
      },
      "execution_count": null,
      "outputs": []
    },
    {
      "cell_type": "code",
      "execution_count": null,
      "metadata": {
        "id": "Wy6bOnodD3aJ"
      },
      "outputs": [],
      "source": [
        "def get_ans(hx, hy, xs, ys):\n",
        "    x = np.arange(xs[0], xs[1] + hx, hx)\n",
        "    y = np.arange(ys[0], ys[1] + hy, hy)\n",
        "    ans = np.zeros((len(x), len(y)))\n",
        "    #print(ans.shape)\n",
        "    for k, x_i in enumerate(x):\n",
        "        for i, y_i in enumerate(y):\n",
        "            ans[k][i] = u(x_i, y_i)\n",
        "    return ans"
      ]
    },
    {
      "cell_type": "code",
      "source": [
        "def error(Z, ans):\n",
        "    return abs(Z - ans).max()"
      ],
      "metadata": {
        "id": "Za5eBsIPNVLQ"
      },
      "execution_count": null,
      "outputs": []
    },
    {
      "cell_type": "code",
      "execution_count": null,
      "metadata": {
        "id": "Pe1AA-vSU4Vv"
      },
      "outputs": [],
      "source": [
        "def finite_difference_schema(h_x, h_y, xs, ys, method, eps=10e-7):\n",
        "    x = np.arange(xs[0], xs[1] + h_x, h_x)\n",
        "    y = np.arange(ys[0], ys[1] + h_y, h_y)\n",
        "\n",
        "    result = np.zeros((x.shape[0], y.shape[0]))\n",
        "    for i in range(x.shape[0]):\n",
        "        result[i][0]  = psi_0(x[i])\n",
        "        result[i][-1] = psi_l(x[i])\n",
        "    \n",
        "    for i in range(y.shape[0]):\n",
        "        result[0][i]  = phi_0(y[i])\n",
        "        result[-1][i] = phi_l(y[i])\n",
        "    \n",
        "    equations = np.zeros((len(x), len(y)), dtype='int')\n",
        "    cur_eq_id = 0\n",
        "    \n",
        "    for cur_x_id in range(1, len(x) - 1):\n",
        "        for cur_y_id in range(1, len(y) - 1):\n",
        "            equations[cur_x_id][cur_y_id] = cur_eq_id\n",
        "            cur_eq_id += 1\n",
        "    \n",
        "    nums_of_equations = (len(x) - 2) * (len(y) - 2)\n",
        "    A = np.zeros((nums_of_equations, nums_of_equations))\n",
        "    b = np.zeros((nums_of_equations))\n",
        "  \n",
        "    for cur_x_id in range(1, len(x) - 1):\n",
        "        for cur_y_id in range(1, len(y) - 1):\n",
        "            cur_eq_id = equations[cur_x_id][cur_y_id]\n",
        "\n",
        "            # u_{i, j}\n",
        "            A[cur_eq_id][equations[cur_x_id][cur_y_id]] = 1 \n",
        "            \n",
        "            if cur_y_id - 1 == 0:\n",
        "                # u_{i, j - 1} -- дано в граничном условии, запишем в b\n",
        "                b[cur_eq_id] += psi_0(x[cur_x_id]) * h_x**2 / (2 * (h_x**2 + h_y**2))\n",
        "            else:\n",
        "                # u_{i, j - 1}\n",
        "                A[cur_eq_id][equations[cur_x_id][cur_y_id-1]] = -h_x**2 / (2 * (h_x**2 + h_y**2)) \n",
        "            \n",
        "            if cur_y_id + 1 == len(y) - 1:\n",
        "                # u_{i, j + 1} -- дано в граничном условии, запишем в b\n",
        "                b[cur_eq_id] += psi_l(x[cur_x_id]) * h_x**2 / (2 * (h_x**2 + h_y**2))\n",
        "            else:\n",
        "                # u_{i, j + 1}\n",
        "                A[cur_eq_id][equations[cur_x_id][cur_y_id+1]] = -h_x**2 / (2 * (h_x**2 + h_y**2)) \n",
        "            \n",
        "            if cur_x_id-1 == 0:\n",
        "                # u_{i-1, j} -- дано в граничном условии, запишем в b\n",
        "                b[cur_eq_id] += phi_0(y[cur_y_id]) * h_y**2 / (2 * (h_x**2 + h_y**2))\n",
        "            else:\n",
        "                # u_{i-1, j}\n",
        "                A[cur_eq_id][equations[cur_x_id-1][cur_y_id]] = -h_y**2 / (2 * (h_x**2 + h_y**2))\n",
        "            \n",
        "            if cur_x_id+1 == len(x) - 1:\n",
        "                # u_{i+1, j} -- дано в граничном условии, запишем в b\n",
        "                b[cur_eq_id] += phi_l(y[cur_y_id]) * h_y**2 / (2 * (h_x**2 + h_y**2))\n",
        "            else:\n",
        "                # u_{i+1, j}\n",
        "                A[cur_eq_id][equations[cur_x_id+1][cur_y_id]] = -h_y**2 / (2 * (h_x**2 + h_y**2))\n",
        "\n",
        "\n",
        "    ans, iters = method(A, b, eps)\n",
        "    \n",
        "    for cur_x_id in range(1, len(x) - 1):\n",
        "        for cur_y_id in range(1, len(y) - 1):\n",
        "            result[cur_x_id][cur_y_id] = ans[equations[cur_x_id][cur_y_id]]\n",
        "\n",
        "    return result, iters"
      ]
    },
    {
      "cell_type": "code",
      "source": [
        "def L2_norm(X):\n",
        "    res = 0\n",
        "    for i in range(X.shape[0]):\n",
        "        res += X[i] * X[i]\n",
        "    return math.sqrt(res)"
      ],
      "metadata": {
        "id": "O6eoVs9_fRYO"
      },
      "execution_count": null,
      "outputs": []
    },
    {
      "cell_type": "code",
      "source": [
        "def iterative(A, b, eps):\n",
        "    \"\"\"\n",
        "    Iterative method to solve Ax=b\n",
        "    \"\"\"\n",
        "    \n",
        "    n = A.shape[0]\n",
        "\n",
        "    # Ax=b -> x = alpha * x + beta\n",
        "    alpha = np.zeros_like(A, dtype='float')\n",
        "    beta = np.zeros_like(b, dtype='float')\n",
        "    \n",
        "    for i in range(n):\n",
        "        for j in range(n):\n",
        "            if i == j:\n",
        "                alpha[i][j] = 0\n",
        "            else:\n",
        "                alpha[i][j] = -A[i][j] / A[i][i]\n",
        "\n",
        "        beta[i] = b[i] / A[i][i]\n",
        "\n",
        "\n",
        "    iterations = 0\n",
        "    cur_x = np.copy(beta)\n",
        "    converge = False\n",
        "    while not converge:\n",
        "        prev_x = np.copy(cur_x)\n",
        "        cur_x = alpha @ prev_x + beta\n",
        "        iterations += 1\n",
        "        converge = L2_norm(prev_x - cur_x) <= eps\n",
        "    return cur_x, iterations"
      ],
      "metadata": {
        "id": "hcqKP999KZ2f"
      },
      "execution_count": null,
      "outputs": []
    },
    {
      "cell_type": "code",
      "source": [
        "hx, hy = 0.05, 0.05\n",
        "result_iterative, iters_iterative = finite_difference_schema(\n",
        "    hx, hy, xs, ys, method=iterative, eps=1e-7\n",
        ")"
      ],
      "metadata": {
        "id": "0rw5txheBl3B"
      },
      "execution_count": null,
      "outputs": []
    },
    {
      "cell_type": "code",
      "execution_count": null,
      "metadata": {
        "colab": {
          "base_uri": "https://localhost:8080/"
        },
        "id": "vb7W-IiA4J_7",
        "outputId": "e2c47d99-f595-4e66-b5ab-fce6825376cb"
      },
      "outputs": [
        {
          "output_type": "stream",
          "name": "stdout",
          "text": [
            "(21, 21) 1171\n"
          ]
        }
      ],
      "source": [
        "print(result_iterative.shape, iters_iterative)"
      ]
    },
    {
      "cell_type": "code",
      "execution_count": null,
      "metadata": {
        "id": "D2wHIcfxlSez"
      },
      "outputs": [],
      "source": [
        "hx, hy = 0.05, 0.05\n",
        "ans = get_ans(hx, hy, xs, ys)"
      ]
    },
    {
      "cell_type": "code",
      "execution_count": null,
      "metadata": {
        "colab": {
          "base_uri": "https://localhost:8080/"
        },
        "id": "7V_MfNJWENLK",
        "outputId": "4ad3b112-dd63-422f-d5c2-4d22395e0fb0"
      },
      "outputs": [
        {
          "output_type": "execute_result",
          "data": {
            "text/plain": [
              "(21, 21)"
            ]
          },
          "metadata": {},
          "execution_count": 59
        }
      ],
      "source": [
        "ans.shape"
      ]
    },
    {
      "cell_type": "code",
      "source": [
        "print(\"Error: \", error(result_iterative, ans))\n",
        "print(\"Iterations: \", iters_iterative)"
      ],
      "metadata": {
        "colab": {
          "base_uri": "https://localhost:8080/"
        },
        "id": "5cyYcBT_Ny1M",
        "outputId": "a713f348-0946-4732-dd4f-c9815ffe4150"
      },
      "execution_count": null,
      "outputs": [
        {
          "output_type": "stream",
          "name": "stdout",
          "text": [
            "Error:  7.991032178189528e-07\n",
            "Iterations:  1171\n"
          ]
        }
      ]
    },
    {
      "cell_type": "markdown",
      "source": [
        "### Метод Зейделя"
      ],
      "metadata": {
        "id": "MlWTZ7B1OER1"
      }
    },
    {
      "cell_type": "code",
      "execution_count": null,
      "metadata": {
        "id": "p0jIi7tZN-rE"
      },
      "outputs": [],
      "source": [
        "def seidel_multiplication(alpha, x, beta):\n",
        "    \"\"\"\n",
        "    Count alhpa * x + beta for seidel method\n",
        "    \"\"\"\n",
        "    \n",
        "    res = np.copy(x)\n",
        "    for i in range(alpha.shape[0]):\n",
        "        res[i] = beta[i]\n",
        "        for j in range(alpha.shape[1]):\n",
        "            res[i] += alpha[i][j] * res[j]\n",
        "    return res\n",
        "\n",
        "\n",
        "def seidel(A, b, eps):\n",
        "    \"\"\"\n",
        "    Seidel method to solve Ax=b\n",
        "    \"\"\"\n",
        "    n = A.shape[0]\n",
        "\n",
        "    # Ax=b -> x = alpha * x + beta\n",
        "    alpha = np.zeros_like(A, dtype='float')\n",
        "    beta = np.zeros_like(b, dtype='float')\n",
        "    for i in range(n):\n",
        "        for j in range(n):\n",
        "            if i == j:\n",
        "                alpha[i][j] = 0\n",
        "            else:\n",
        "                alpha[i][j] = -A[i][j] / A[i][i]\n",
        "\n",
        "        beta[i] = b[i] / A[i][i]\n",
        "\n",
        "    iterations = 0\n",
        "    cur_x = np.copy(beta)\n",
        "    converge = False\n",
        "    while not converge:\n",
        "        prev_x = np.copy(cur_x)\n",
        "        cur_x = seidel_multiplication(alpha, prev_x, beta)\n",
        "        iterations += 1\n",
        "        converge = L2_norm(prev_x - cur_x) <= eps\n",
        "    return cur_x, iterations"
      ]
    },
    {
      "cell_type": "code",
      "source": [
        "hx, hy = 0.05, 0.05\n",
        "result_seidel, iters_seidel = finite_difference_schema(\n",
        "    hx, hy, xs, ys, method=seidel, eps=1e-7\n",
        ")"
      ],
      "metadata": {
        "id": "66NtyPfLOQU9"
      },
      "execution_count": null,
      "outputs": []
    },
    {
      "cell_type": "code",
      "source": [
        "print(\"Error: \", error(result_seidel, ans))\n",
        "print(\"Iterations: \", iters_seidel)"
      ],
      "metadata": {
        "colab": {
          "base_uri": "https://localhost:8080/"
        },
        "id": "wdMZpICnOXWQ",
        "outputId": "0bc7bec8-75b0-4f48-d730-b297709dc645"
      },
      "execution_count": null,
      "outputs": [
        {
          "output_type": "stream",
          "name": "stdout",
          "text": [
            "Error:  3.9464804979516543e-07\n",
            "Iterations:  617\n"
          ]
        }
      ]
    },
    {
      "cell_type": "markdown",
      "source": [
        "### Метод верхних релаксаций для решения СЛАУ"
      ],
      "metadata": {
        "id": "UMwE7AUxOsYj"
      }
    },
    {
      "cell_type": "code",
      "source": [
        "def relaxation(A, b, eps, w=1.5):\n",
        "    \"\"\"\n",
        "    Relaxation method to solve Ax=b\n",
        "    \"\"\"\n",
        "    \n",
        "    n = A.shape[0]\n",
        "    # Ax=b -> x = alpha * x + beta\n",
        "    alpha = np.zeros_like(A, dtype='float')\n",
        "    beta = np.zeros_like(b, dtype='float')\n",
        "    for i in range(n):\n",
        "        for j in range(n):\n",
        "            if i == j:\n",
        "                alpha[i][j] = 0\n",
        "            else:\n",
        "                alpha[i][j] = -A[i][j] / A[i][i]\n",
        "\n",
        "        beta[i] = b[i] / A[i][i]\n",
        "\n",
        "    iterations = 0\n",
        "    cur_x = np.copy(beta)\n",
        "    converge = False\n",
        "    while not converge:\n",
        "        prev_x = np.copy(cur_x)\n",
        "        cur_x = seidel_multiplication(alpha, prev_x, beta)\n",
        "        cur_x = w * cur_x + (1 - w) * prev_x\n",
        "        iterations += 1\n",
        "        converge = L2_norm(prev_x - cur_x) <= eps\n",
        "    return cur_x, iterations"
      ],
      "metadata": {
        "id": "7BD8y7p3Otth"
      },
      "execution_count": null,
      "outputs": []
    },
    {
      "cell_type": "code",
      "source": [
        "hx, hy = 0.05, 0.05\n",
        "result_relaxation, iters_relaxation = finite_difference_schema(\n",
        "    hx, hy, xs, ys, method=relaxation, eps=1e-7\n",
        ")"
      ],
      "metadata": {
        "id": "pe_1pqlEOwT_"
      },
      "execution_count": null,
      "outputs": []
    },
    {
      "cell_type": "code",
      "source": [
        "print(\"Error: \", error(result_relaxation, ans))\n",
        "print(\"Iterations: \", iters_relaxation)"
      ],
      "metadata": {
        "colab": {
          "base_uri": "https://localhost:8080/"
        },
        "id": "hKZht5pIO3gJ",
        "outputId": "3ee09836-ba00-474e-a7d7-9fb623032aae"
      },
      "execution_count": null,
      "outputs": [
        {
          "output_type": "stream",
          "name": "stdout",
          "text": [
            "Error:  2.591992710465618e-07\n",
            "Iterations:  420\n"
          ]
        }
      ]
    },
    {
      "cell_type": "code",
      "source": [
        "solutions = {\n",
        "    \"relaxation\": result_relaxation, \n",
        "    \"seidel\"    : result_seidel,\n",
        "    \"iterative\" : result_iterative,\n",
        "    \"analytical\": ans\n",
        "}"
      ],
      "metadata": {
        "id": "3dpRA94aQmvZ"
      },
      "execution_count": null,
      "outputs": []
    },
    {
      "cell_type": "markdown",
      "metadata": {
        "id": "WY_7SBvNNTlM"
      },
      "source": [
        "### Визуализация"
      ]
    },
    {
      "cell_type": "code",
      "source": [
        "def plot_results(solutions, cur_y, xs, ys, h_x,  h_y):\n",
        "    \n",
        "    x = np.arange(xs[0], xs[1] + h_x, h_x)\n",
        "    y = np.arange(ys[0], ys[1] + h_y, h_y)\n",
        "    \n",
        "    cur_y_id = abs(y - cur_y).argmin()\n",
        "\n",
        "    plt.figure(figsize=(15, 9))\n",
        "    \n",
        "    for method_name, solution in solutions.items():\n",
        "        plt.plot(x, solution[:, cur_y_id], label=method_name)\n",
        "\n",
        "    plt.legend()\n",
        "    plt.grid()\n",
        "    plt.show()"
      ],
      "metadata": {
        "id": "RwkOQx9gQXEv"
      },
      "execution_count": null,
      "outputs": []
    },
    {
      "cell_type": "code",
      "source": [
        "def plot_errors_from_y(solutions, ans, ys, h_y):\n",
        "\n",
        "    y = np.arange(ys[0], ys[1] + h_y,  h_y)\n",
        "\n",
        "    plt.figure(figsize=(15, 9))\n",
        "    \n",
        "    for method_name, solution in solutions.items():\n",
        "        errors = np.array([\n",
        "            error(solution[:, i], ans[:, i])\n",
        "            for i in range(len(y))\n",
        "        ])\n",
        "        plt.plot(y, errors, label=method_name)\n",
        "\n",
        "    plt.xlabel('y')\n",
        "    plt.ylabel('Error')\n",
        "\n",
        "    plt.legend()\n",
        "    plt.grid()\n",
        "    plt.show()"
      ],
      "metadata": {
        "id": "Fjkc4A9kQbm4"
      },
      "execution_count": null,
      "outputs": []
    },
    {
      "cell_type": "code",
      "source": [
        "plot_results(solutions, 0.5, xs, ys, hx, hy)"
      ],
      "metadata": {
        "id": "9kBDGmQ6PkIx",
        "colab": {
          "base_uri": "https://localhost:8080/",
          "height": 537
        },
        "outputId": "adbdc94f-6819-445d-9291-44cb84adc9d4"
      },
      "execution_count": null,
      "outputs": [
        {
          "output_type": "display_data",
          "data": {
            "text/plain": [
              "<Figure size 1080x648 with 1 Axes>"
            ],
            "image/png": "[encoded data removed]"
          },
          "metadata": {
            "needs_background": "light"
          }
        }
      ]
    },
    {
      "cell_type": "code",
      "source": [
        "solutions = {\n",
        "    \"relaxation\": result_relaxation, \n",
        "    \"seidel\"    : result_seidel,\n",
        "    \"iterative\" : result_iterative,\n",
        "}"
      ],
      "metadata": {
        "id": "Pr-L1yFocWGs"
      },
      "execution_count": null,
      "outputs": []
    },
    {
      "cell_type": "code",
      "source": [
        "plot_errors_from_y(solutions, ans, ys, hy)"
      ],
      "metadata": {
        "colab": {
          "base_uri": "https://localhost:8080/",
          "height": 562
        },
        "id": "1J9JoqnGb_XC",
        "outputId": "16d0b1fa-b642-4dbf-b8f7-644e5494ac44"
      },
      "execution_count": null,
      "outputs": [
        {
          "output_type": "display_data",
          "data": {
            "text/plain": [
              "<Figure size 1080x648 with 1 Axes>"
            ],
            "image/png": "[encoded data removed]"
          },
          "metadata": {
            "needs_background": "light"
          }
        }
      ]
    }
  ],
  "metadata": {
    "colab": {
      "provenance": []
    },
    "kernelspec": {
      "display_name": "Python 3",
      "name": "python3"
    },
    "language_info": {
      "name": "python"
    },
    "gpuClass": "standard",
    "accelerator": "GPU"
  },
  "nbformat": 4,
  "nbformat_minor": 0
}